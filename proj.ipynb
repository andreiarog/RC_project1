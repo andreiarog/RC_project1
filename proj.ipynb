{
 "cells": [
  {
   "cell_type": "code",
   "execution_count": null,
   "metadata": {},
   "outputs": [
    {
     "name": "stdout",
     "output_type": "stream",
     "text": [
      "Building Graph...\n",
      "Graph built!\n",
      "\n",
      "\n"
     ]
    }
   ],
   "source": [
    "import networkx as nx\n",
    "\n",
    "G=nx.Graph()\n",
    "\n",
    "#read edges from csv file\n",
    "file_edges=open(\"4-edges.csv\", \"r\")\n",
    "print(\"Building Graph...\")\n",
    "while(1):\n",
    "    content = file_edges.readline()\n",
    "    if content == \"\":\n",
    "        break\n",
    "    line = content.split(\",\")\n",
    "    G.add_edge(line[0], line[1], weight=line[2]) #add weighted edges to Graph\n",
    "print(\"Graph built!\\n\\n\")\n",
    "number_of_nodes = G.number_of_nodes()\n",
    "print(\"Number of nodes: \", number_of_nodes)\n",
    "av_degree = (2*G.number_of_edges())/number_of_nodes # av_degree = 2*E/N ignoring this it a weighted graph\n",
    "print(\"Average degree: \", av_degree)\n",
    "clustering_coeficient = nx.average_clustering(G) #average clustering coeficient\n",
    "print(\"Clustering coeficient: \", clustering_coeficient)\n",
    "average_shortest_path_lenght = nx.average_shortest_path_length(G)\n",
    "print(\"Average path lenght: \", average_shortest_path_lenght)\n",
    "\n"
   ]
  },
  {
   "cell_type": "code",
   "execution_count": null,
   "metadata": {},
   "outputs": [],
   "source": []
  }
 ],
 "metadata": {
  "kernelspec": {
   "display_name": "Python 3",
   "language": "python",
   "name": "python3"
  },
  "language_info": {
   "codemirror_mode": {
    "name": "ipython",
    "version": 3
   },
   "file_extension": ".py",
   "mimetype": "text/x-python",
   "name": "python",
   "nbconvert_exporter": "python",
   "pygments_lexer": "ipython3",
   "version": "3.6.4"
  }
 },
 "nbformat": 4,
 "nbformat_minor": 2
}
