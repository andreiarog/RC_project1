{
 "cells": [
  {
   "cell_type": "code",
   "execution_count": 6,
   "metadata": {},
   "outputs": [
    {
     "name": "stdout",
     "output_type": "stream",
     "text": [
      "Building Graph...\n",
      "Graph built!\n",
      "\n",
      "\n",
      "Number of nodes:  10455\n",
      "Average degree:  428.3959827833572\n",
      "Average path lenght of connected component  0 , having  10442  nodes:  2.1751153007016137\n",
      "Average path lenght of connected component  1 , having  2  nodes:  1.0\n",
      "Average path lenght of connected component  2 , having  2  nodes:  1.0\n",
      "Average path lenght of connected component  3 , having  5  nodes:  1.0\n",
      "Average path lenght of connected component  4 , having  2  nodes:  1.0\n",
      "Average path lenght of connected component  5 , having  2  nodes:  1.0\n",
      "Total average path lenght:  1.1958525501169357\n",
      "Clustering coeficient:  0.6984519857938053\n"
     ]
    }
   ],
   "source": [
    "import networkx as nx\n",
    "\n",
    "G=nx.Graph()\n",
    "\n",
    "#read edges from csv file\n",
    "file_edges=open(\"4-edges.csv\", \"r\")\n",
    "print(\"Building Graph...\")\n",
    "while(1):\n",
    "    content = file_edges.readline()\n",
    "    if content == \"\":\n",
    "        break\n",
    "    line = content.split(\",\")\n",
    "    G.add_edge(line[0], line[1], weight=line[2]) #add weighted edges to Graph\n",
    "print(\"Graph built!\\n\\n\")\n",
    "number_of_nodes = G.number_of_nodes()\n",
    "print(\"Number of nodes: \", number_of_nodes)\n",
    "av_degree = (2*G.number_of_edges())/number_of_nodes # av_degree = 2*E/N ignoring this it a weighted graph\n",
    "print(\"Average degree: \", av_degree)\n",
    "\n",
    "\n",
    "num_connected_components = 0\n",
    "path_length_sum = 0\n",
    "for g in nx.connected_component_subgraphs(G):\n",
    "    shortest_path_g = nx.average_shortest_path_length(g)\n",
    "    path_length_sum += shortest_path_g\n",
    "    print(\"Average path lenght of connected component \",num_connected_components, \", having \", g.number_of_nodes(), \" nodes: \", shortest_path_g)\n",
    "    num_connected_components += 1\n",
    "\n",
    "print(\"Total average path lenght: \", path_length_sum/num_connected_components)\n",
    "\n",
    "\n",
    "clustering_coeficient = nx.average_clustering(G) #average clustering coeficient\n",
    "print(\"Clustering coeficient: \", clustering_coeficient)\n",
    "\n",
    "#Doesn't work because Graph is not connected\n",
    "#average_shortest_path_lenght = nx.average_shortest_path_length(G)\n",
    "\n",
    "\n",
    "\n"
   ]
  },
  {
   "cell_type": "code",
   "execution_count": null,
   "metadata": {},
   "outputs": [],
   "source": []
  }
 ],
 "metadata": {
  "kernelspec": {
   "display_name": "Python 3",
   "language": "python",
   "name": "python3"
  },
  "language_info": {
   "codemirror_mode": {
    "name": "ipython",
    "version": 3
   },
   "file_extension": ".py",
   "mimetype": "text/x-python",
   "name": "python",
   "nbconvert_exporter": "python",
   "pygments_lexer": "ipython3",
   "version": "3.6.4"
  }
 },
 "nbformat": 4,
 "nbformat_minor": 2
}
