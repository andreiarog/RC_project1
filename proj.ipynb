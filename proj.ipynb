{
 "cells": [
  {
   "cell_type": "code",
   "execution_count": 6,
   "metadata": {},
   "outputs": [
    {
     "name": "stdout",
     "output_type": "stream",
     "text": [
      "Building Graph...\n",
      "Graph built!\n",
      "\n",
      "\n",
      "Number of nodes:  10455\n",
      "Average degree:  428.3959827833572\n",
      "Average path lenght of connected component  0 , having  10442  nodes:  2.1751153007016137\n",
      "Average path lenght of connected component  1 , having  2  nodes:  1.0\n",
      "Average path lenght of connected component  2 , having  2  nodes:  1.0\n",
      "Average path lenght of connected component  3 , having  5  nodes:  1.0\n",
      "Average path lenght of connected component  4 , having  2  nodes:  1.0\n",
      "Average path lenght of connected component  5 , having  2  nodes:  1.0\n",
      "Total average path lenght:  1.1958525501169357\n",
      "Clustering coeficient:  0.6984519857938053\n"
     ]
    }
   ],
   "source": [
    "import networkx as nx\n",
    "\n",
    "G=nx.Graph()\n",
    "\n",
    "#read edges from csv file\n",
    "file_edges=open(\"4-edges.csv\", \"r\")\n",
    "print(\"Building Graph...\")\n",
    "while(1):\n",
    "    content = file_edges.readline()\n",
    "    if content == \"\":\n",
    "        break\n",
    "    line = content.split(\",\")\n",
    "    G.add_edge(line[0], line[1], weight=line[2]) #add weighted edges to Graph\n",
    "print(\"Graph built!\\n\\n\")\n",
    "number_of_nodes = G.number_of_nodes()\n",
    "print(\"Number of nodes: \", number_of_nodes)\n",
    "av_degree = (2*G.number_of_edges())/number_of_nodes # av_degree = 2*E/N ignoring this it a weighted graph\n",
    "print(\"Average degree: \", av_degree)\n",
    "\n",
    "\n",
    "num_connected_components = 0\n",
    "path_length_sum = 0\n",
    "for g in nx.connected_component_subgraphs(G):\n",
    "    shortest_path_g = nx.average_shortest_path_length(g)\n",
    "    path_length_sum += shortest_path_g\n",
    "    print(\"Average path lenght of connected component \",num_connected_components, \", having \", g.number_of_nodes(), \" nodes: \", shortest_path_g)\n",
    "    num_connected_components += 1\n",
    "\n",
    "print(\"Total average path lenght: \", path_length_sum/num_connected_components)\n",
    "\n",
    "\n",
    "clustering_coeficient = nx.average_clustering(G) #average clustering coeficient\n",
    "print(\"Clustering coeficient: \", clustering_coeficient)\n",
    "\n",
    "#Doesn't work because Graph is not connected\n",
    "#average_shortest_path_lenght = nx.average_shortest_path_length(G)\n",
    "\n",
    "\n",
    "\n"
   ]
  },
  {
   "cell_type": "code",
   "execution_count": 25,
   "metadata": {},
   "outputs": [
    {
     "name": "stdout",
     "output_type": "stream",
     "text": [
      "Building Graph...\n",
      "Graph built!\n",
      "\n",
      "\n",
      "10455\n",
      "[]\n",
      "{}\n"
     ]
    },
    {
     "ename": "SyntaxError",
     "evalue": "'return' outside function (<ipython-input-25-b97f8656762a>, line 25)",
     "output_type": "error",
     "traceback": [
      "\u001b[0;36m  File \u001b[0;32m\"<ipython-input-25-b97f8656762a>\"\u001b[0;36m, line \u001b[0;32m25\u001b[0m\n\u001b[0;31m    return\u001b[0m\n\u001b[0m          ^\u001b[0m\n\u001b[0;31mSyntaxError\u001b[0m\u001b[0;31m:\u001b[0m 'return' outside function\n"
     ]
    }
   ],
   "source": [
    "import networkx as nx\n",
    "\n",
    "G=nx.Graph()\n",
    "\n",
    "#read edges from csv file\n",
    "file_edges=open(\"4-edges.csv\", \"r\")\n",
    "print(\"Building Graph...\")\n",
    "while(1):\n",
    "    content = file_edges.readline()\n",
    "    if content == \"\":\n",
    "        break\n",
    "    line = content.split(\",\")\n",
    "    G.add_edge(line[0], line[1], weight=line[2]) #add weighted edges to Graph\n",
    "print(\"Graph built!\\n\\n\")\n",
    "print(G.number_of_nodes())\n",
    "\n",
    "node_degree_list = []\n",
    "node_clustering_list = []\n",
    "\n",
    "\n",
    "\n",
    "\n",
    "\n",
    "return\n",
    "for n in range(G.number_of_nodes()):\n",
    "    node_degree_list.append(G.degree([n]))\n",
    "    node_clustering_list.append(nx.clustering(G,[n]))\n",
    "    \n",
    "\n",
    "    "
   ]
  },
  {
   "cell_type": "code",
   "execution_count": 61,
   "metadata": {},
   "outputs": [
    {
     "data": {
      "text/plain": [
       "2239440"
      ]
     },
     "execution_count": 61,
     "metadata": {},
     "output_type": "execute_result"
    }
   ],
   "source": [
    "G.number_of_edges()"
   ]
  },
  {
   "cell_type": "code",
   "execution_count": 36,
   "metadata": {},
   "outputs": [],
   "source": [
    "degree_sequence = G.degree()\n",
    "clustering_sequence = nx.clustering(G)\n",
    "\n"
   ]
  },
  {
   "cell_type": "code",
   "execution_count": 74,
   "metadata": {},
   "outputs": [
    {
     "name": "stdout",
     "output_type": "stream",
     "text": [
      "[]\n"
     ]
    },
    {
     "data": {
      "image/png": "[encoded data removed]",
      "text/plain": [
       "<matplotlib.figure.Figure at 0x158dc4df28>"
      ]
     },
     "metadata": {},
     "output_type": "display_data"
    }
   ],
   "source": [
    "degree_values = [d for n, d in degree_sequence]\n",
    "clustering_values = [c for b, c in clustering_sequence.items()]\n",
    "num_visited_times = [0]*6\n",
    "x = [None]*6\n",
    "\n",
    "\n",
    "\n",
    "for i in range(G.number_of_nodes()):\n",
    "    \n",
    "    if (degree_values[i] < 1000):\n",
    "        val = 0\n",
    "    elif (degree_values[i] < 2000):\n",
    "        val = 1\n",
    "    elif (degree_values[i] < 3000):\n",
    "        val = 2\n",
    "    elif (degree_values[i] < 4000):\n",
    "        val = 3\n",
    "    elif (degree_values[i] < 5000):\n",
    "        val = 4\n",
    "    else:\n",
    "        val = 5\n",
    "    \n",
    "    if x[val] == None:\n",
    "        x[val] = clustering_values[i]\n",
    "        num_visited_times[val] += 1\n",
    "    else:\n",
    "        num_visited_times[val] += 1\n",
    "        x[val] = (x[val]*(num_visited_times[val] - 1) + clustering_values[i])/num_visited_times[val]\n",
    "        \n",
    "    \n",
    "\n",
    "\n",
    "import matplotlib.pyplot as plt\n",
    "print(node_clustering_list)\n",
    "plt.figure()\n",
    "plt.loglog([500, 1500, 2500, 3500, 4500, 5500], x)\n",
    "plt.title(\"Clustering per degree distribution\")\n",
    "plt.ylabel(\"Node clustering\")\n",
    "plt.xlabel(\"Node degree interval\")\n",
    "plt.show()"
   ]
  },
  {
   "cell_type": "code",
   "execution_count": null,
   "metadata": {
    "collapsed": true
   },
   "outputs": [],
   "source": []
  }
 ],
 "metadata": {
  "kernelspec": {
   "display_name": "Python 3",
   "language": "python",
   "name": "python3"
  },
  "language_info": {
   "codemirror_mode": {
    "name": "ipython",
    "version": 3
   },
   "file_extension": ".py",
   "mimetype": "text/x-python",
   "name": "python",
   "nbconvert_exporter": "python",
   "pygments_lexer": "ipython3",
   "version": "3.6.4"
  }
 },
 "nbformat": 4,
 "nbformat_minor": 2
}
