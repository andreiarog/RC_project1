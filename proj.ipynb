{
 "cells": [
  {
   "cell_type": "code",
   "execution_count": 15,
   "metadata": {},
   "outputs": [
    {
     "name": "stdout",
     "output_type": "stream",
     "text": [
      "4 282 1\n",
      "\n",
      "4 14437 1\n",
      "\n",
      "8 329 1\n",
      "\n",
      "8 644 1\n",
      "\n",
      "8 3121 1\n",
      "\n"
     ]
    },
    {
     "data": {
      "text/plain": [
       "7"
      ]
     },
     "execution_count": 15,
     "metadata": {},
     "output_type": "execute_result"
    }
   ],
   "source": [
    "import networkx as nx\n",
    "import csv\n",
    "\n",
    "G=nx.Graph()\n",
    "\n",
    "\n",
    "\n",
    "f=open(\"4-edges.csv\", \"r\")\n",
    "for row in range(5):\n",
    "    content = f.readline()\n",
    "    frank = content.split(\",\")\n",
    "    print(frank[0], frank[1], frank[2])\n",
    "    G.add_edge(frank[0], frank[1])\n",
    "    \n",
    "G.number_of_nodes()\n",
    "\n",
    "\n"
   ]
  },
  {
   "cell_type": "code",
   "execution_count": null,
   "metadata": {},
   "outputs": [],
   "source": []
  }
 ],
 "metadata": {
  "kernelspec": {
   "display_name": "Python 3",
   "language": "python",
   "name": "python3"
  },
  "language_info": {
   "codemirror_mode": {
    "name": "ipython",
    "version": 3
   },
   "file_extension": ".py",
   "mimetype": "text/x-python",
   "name": "python",
   "nbconvert_exporter": "python",
   "pygments_lexer": "ipython3",
   "version": "3.6.4"
  }
 },
 "nbformat": 4,
 "nbformat_minor": 2
}
