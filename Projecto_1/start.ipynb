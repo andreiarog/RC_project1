{
 "cells": [
  {
   "cell_type": "code",
   "execution_count": 6,
   "metadata": {},
   "outputs": [
    {
     "name": "stdout",
     "output_type": "stream",
     "text": [
      "3\n",
      "2\n"
     ]
    }
   ],
   "source": [
    "#NetworkX tutorial\n",
    "\n",
    "import networkx as nx\n",
    "\n",
    "G = nx.Graph() #creating a Graph\n",
    "\n",
    "G.add_node(1) #add single node\n",
    "G.add_nodes_from([2,3]) #add list of nodes\n",
    "\n",
    "print(len(G)) #number of nodes in graph\n",
    "\n",
    "H = nx.path_graph(10) #container of nodes\n",
    "G.add_nodes_from(H) #now contains nodes of H as nodes of G\n",
    "\n",
    "# G.add_node(H) graph H as a node in G\n",
    "\n",
    "G.add_edge(1,2)\n",
    "e=(2,3)\n",
    "G.add_edge(*e) #unpack edge tuple\n",
    "\n",
    "edges = G.number_of_edges() #gives total number of edges; we can specified the nodes between which we want the number os edges\n",
    "print(edges)"
   ]
  },
  {
   "cell_type": "code",
   "execution_count": null,
   "metadata": {},
   "outputs": [],
   "source": []
  }
 ],
 "metadata": {
  "kernelspec": {
   "display_name": "Python 3",
   "language": "python",
   "name": "python3"
  },
  "language_info": {
   "codemirror_mode": {
    "name": "ipython",
    "version": 3
   },
   "file_extension": ".py",
   "mimetype": "text/x-python",
   "name": "python",
   "nbconvert_exporter": "python",
   "pygments_lexer": "ipython3",
   "version": "3.6.4"
  }
 },
 "nbformat": 4,
 "nbformat_minor": 2
}
